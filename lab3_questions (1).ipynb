{
  "cells": [
    {
      "cell_type": "markdown",
      "id": "26cf5d84-cfef-4446-8191-d3243e5287f6",
      "metadata": {
        "id": "26cf5d84-cfef-4446-8191-d3243e5287f6"
      },
      "source": [
        "## Lab 3: pandas\n",
        "\n",
        "#### Introduction\n",
        "\n",
        "We will examine a dataset containing characteristics of lego sets manufactured between 1961 and 2019 from the BRICKSET website. Variables in the dataset are described below.\n",
        "\n",
        "| VARIABLE             |      DESCRIPTION             |\n",
        "|:----------|:-------------|\n",
        "| ID |  set id |\n",
        "| Name |    name of set   |\n",
        "| Themegroup | themegroup of set |\n",
        "| Theme |  theme of set |\n",
        "| Subtheme |    subtheme of set   |\n",
        "| Year | year released |\n",
        "| Pieces |  number of pieces |\n",
        "| Minifig |    number of minifigs   |\n",
        "| Package | type of packaging |\n",
        "| Retail_Price |  recommended retail pri\n",
        "\n",
        "\n",
        "\n",
        "Load pandas to read in the data and save it as dataframe named lego."
      ]
    },
    {
      "cell_type": "code",
      "execution_count": 3,
      "id": "c5749932-fc68-41af-9354-8ef58288707f",
      "metadata": {
        "colab": {
          "base_uri": "https://localhost:8080/",
          "height": 305
        },
        "id": "c5749932-fc68-41af-9354-8ef58288707f",
        "outputId": "8be7c579-19e4-4025-8990-7e897820fdb9"
      },
      "outputs": [
        {
          "output_type": "display_data",
          "data": {
            "text/plain": [
              "<IPython.core.display.HTML object>"
            ],
            "text/html": [
              "\n",
              "     <input type=\"file\" id=\"files-f4d3ad19-252b-4455-ab31-9a3245615dcd\" name=\"files[]\" multiple disabled\n",
              "        style=\"border:none\" />\n",
              "     <output id=\"result-f4d3ad19-252b-4455-ab31-9a3245615dcd\">\n",
              "      Upload widget is only available when the cell has been executed in the\n",
              "      current browser session. Please rerun this cell to enable.\n",
              "      </output>\n",
              "      <script>// Copyright 2017 Google LLC\n",
              "//\n",
              "// Licensed under the Apache License, Version 2.0 (the \"License\");\n",
              "// you may not use this file except in compliance with the License.\n",
              "// You may obtain a copy of the License at\n",
              "//\n",
              "//      http://www.apache.org/licenses/LICENSE-2.0\n",
              "//\n",
              "// Unless required by applicable law or agreed to in writing, software\n",
              "// distributed under the License is distributed on an \"AS IS\" BASIS,\n",
              "// WITHOUT WARRANTIES OR CONDITIONS OF ANY KIND, either express or implied.\n",
              "// See the License for the specific language governing permissions and\n",
              "// limitations under the License.\n",
              "\n",
              "/**\n",
              " * @fileoverview Helpers for google.colab Python module.\n",
              " */\n",
              "(function(scope) {\n",
              "function span(text, styleAttributes = {}) {\n",
              "  const element = document.createElement('span');\n",
              "  element.textContent = text;\n",
              "  for (const key of Object.keys(styleAttributes)) {\n",
              "    element.style[key] = styleAttributes[key];\n",
              "  }\n",
              "  return element;\n",
              "}\n",
              "\n",
              "// Max number of bytes which will be uploaded at a time.\n",
              "const MAX_PAYLOAD_SIZE = 100 * 1024;\n",
              "\n",
              "function _uploadFiles(inputId, outputId) {\n",
              "  const steps = uploadFilesStep(inputId, outputId);\n",
              "  const outputElement = document.getElementById(outputId);\n",
              "  // Cache steps on the outputElement to make it available for the next call\n",
              "  // to uploadFilesContinue from Python.\n",
              "  outputElement.steps = steps;\n",
              "\n",
              "  return _uploadFilesContinue(outputId);\n",
              "}\n",
              "\n",
              "// This is roughly an async generator (not supported in the browser yet),\n",
              "// where there are multiple asynchronous steps and the Python side is going\n",
              "// to poll for completion of each step.\n",
              "// This uses a Promise to block the python side on completion of each step,\n",
              "// then passes the result of the previous step as the input to the next step.\n",
              "function _uploadFilesContinue(outputId) {\n",
              "  const outputElement = document.getElementById(outputId);\n",
              "  const steps = outputElement.steps;\n",
              "\n",
              "  const next = steps.next(outputElement.lastPromiseValue);\n",
              "  return Promise.resolve(next.value.promise).then((value) => {\n",
              "    // Cache the last promise value to make it available to the next\n",
              "    // step of the generator.\n",
              "    outputElement.lastPromiseValue = value;\n",
              "    return next.value.response;\n",
              "  });\n",
              "}\n",
              "\n",
              "/**\n",
              " * Generator function which is called between each async step of the upload\n",
              " * process.\n",
              " * @param {string} inputId Element ID of the input file picker element.\n",
              " * @param {string} outputId Element ID of the output display.\n",
              " * @return {!Iterable<!Object>} Iterable of next steps.\n",
              " */\n",
              "function* uploadFilesStep(inputId, outputId) {\n",
              "  const inputElement = document.getElementById(inputId);\n",
              "  inputElement.disabled = false;\n",
              "\n",
              "  const outputElement = document.getElementById(outputId);\n",
              "  outputElement.innerHTML = '';\n",
              "\n",
              "  const pickedPromise = new Promise((resolve) => {\n",
              "    inputElement.addEventListener('change', (e) => {\n",
              "      resolve(e.target.files);\n",
              "    });\n",
              "  });\n",
              "\n",
              "  const cancel = document.createElement('button');\n",
              "  inputElement.parentElement.appendChild(cancel);\n",
              "  cancel.textContent = 'Cancel upload';\n",
              "  const cancelPromise = new Promise((resolve) => {\n",
              "    cancel.onclick = () => {\n",
              "      resolve(null);\n",
              "    };\n",
              "  });\n",
              "\n",
              "  // Wait for the user to pick the files.\n",
              "  const files = yield {\n",
              "    promise: Promise.race([pickedPromise, cancelPromise]),\n",
              "    response: {\n",
              "      action: 'starting',\n",
              "    }\n",
              "  };\n",
              "\n",
              "  cancel.remove();\n",
              "\n",
              "  // Disable the input element since further picks are not allowed.\n",
              "  inputElement.disabled = true;\n",
              "\n",
              "  if (!files) {\n",
              "    return {\n",
              "      response: {\n",
              "        action: 'complete',\n",
              "      }\n",
              "    };\n",
              "  }\n",
              "\n",
              "  for (const file of files) {\n",
              "    const li = document.createElement('li');\n",
              "    li.append(span(file.name, {fontWeight: 'bold'}));\n",
              "    li.append(span(\n",
              "        `(${file.type || 'n/a'}) - ${file.size} bytes, ` +\n",
              "        `last modified: ${\n",
              "            file.lastModifiedDate ? file.lastModifiedDate.toLocaleDateString() :\n",
              "                                    'n/a'} - `));\n",
              "    const percent = span('0% done');\n",
              "    li.appendChild(percent);\n",
              "\n",
              "    outputElement.appendChild(li);\n",
              "\n",
              "    const fileDataPromise = new Promise((resolve) => {\n",
              "      const reader = new FileReader();\n",
              "      reader.onload = (e) => {\n",
              "        resolve(e.target.result);\n",
              "      };\n",
              "      reader.readAsArrayBuffer(file);\n",
              "    });\n",
              "    // Wait for the data to be ready.\n",
              "    let fileData = yield {\n",
              "      promise: fileDataPromise,\n",
              "      response: {\n",
              "        action: 'continue',\n",
              "      }\n",
              "    };\n",
              "\n",
              "    // Use a chunked sending to avoid message size limits. See b/62115660.\n",
              "    let position = 0;\n",
              "    do {\n",
              "      const length = Math.min(fileData.byteLength - position, MAX_PAYLOAD_SIZE);\n",
              "      const chunk = new Uint8Array(fileData, position, length);\n",
              "      position += length;\n",
              "\n",
              "      const base64 = btoa(String.fromCharCode.apply(null, chunk));\n",
              "      yield {\n",
              "        response: {\n",
              "          action: 'append',\n",
              "          file: file.name,\n",
              "          data: base64,\n",
              "        },\n",
              "      };\n",
              "\n",
              "      let percentDone = fileData.byteLength === 0 ?\n",
              "          100 :\n",
              "          Math.round((position / fileData.byteLength) * 100);\n",
              "      percent.textContent = `${percentDone}% done`;\n",
              "\n",
              "    } while (position < fileData.byteLength);\n",
              "  }\n",
              "\n",
              "  // All done.\n",
              "  yield {\n",
              "    response: {\n",
              "      action: 'complete',\n",
              "    }\n",
              "  };\n",
              "}\n",
              "\n",
              "scope.google = scope.google || {};\n",
              "scope.google.colab = scope.google.colab || {};\n",
              "scope.google.colab._files = {\n",
              "  _uploadFiles,\n",
              "  _uploadFilesContinue,\n",
              "};\n",
              "})(self);\n",
              "</script> "
            ]
          },
          "metadata": {}
        },
        {
          "output_type": "stream",
          "name": "stdout",
          "text": [
            "Saving lego.csv to lego.csv\n",
            "            id                   name     themegroup           theme  \\\n",
            "0  100STORES-1  100 Stores minifigure  Miscellaneous     Promotional   \n",
            "1      10264-1          Corner Garage   Model making  Creator Expert   \n",
            "2      10265-1           Ford Mustang   Model making  Creator Expert   \n",
            "3      10766-1             Woody & RC       Licensed       Toy Story   \n",
            "4      10769-1            RV Vacation       Licensed       Toy Story   \n",
            "\n",
            "            subtheme    year  pieces  minifigs       package  retail_price  \n",
            "0  LEGO brand stores  2019.0     NaN         0  Blister pack           NaN  \n",
            "1  Modular Buildings  2019.0  2569.0         6           Box        199.99  \n",
            "2           Vehicles  2019.0  1471.0         0           Box        149.99  \n",
            "3        Toy Story 4  2019.0    69.0         0           Box          9.99  \n",
            "4        Toy Story 4  2019.0   178.0         0           Box         34.99  \n"
          ]
        }
      ],
      "source": [
        "from google.colab import files\n",
        "import pandas as pd\n",
        "from geopy.distance import great_circle\n",
        "import numpy as np\n",
        "\n",
        "# Upload the CSV file\n",
        "uploaded = files.upload()\n",
        "\n",
        "# Load the dataset\n",
        "lego = pd.read_csv('lego.csv')\n",
        "\n",
        "# Display the first few rows of the dataframe\n",
        "print(lego.head())\n"
      ]
    },
    {
      "cell_type": "markdown",
      "id": "cc9d92c3-501a-4b50-a345-806b102b6a76",
      "metadata": {
        "id": "cc9d92c3-501a-4b50-a345-806b102b6a76"
      },
      "source": [
        "#### Question 1:\n",
        "Some sets have missing information for retail_price or pieces or both. This could be because the sets are free (giveaways), they aren’t traditional lego sets (comic books, etc) or just because the information is missing. Filter the lego dataset based on the specifications below and save the result as lego. Hence, you will overwrite the original lego object. In addition, describe the implications of removing these sets.\n",
        "\n",
        "Your new lego (data frame) should have:\n",
        "\n",
        "• no missing pieces\n",
        "\n",
        "• only contain sets with a nonzero number of pieces\n",
        "\n",
        "• no missing retail_price\n",
        "\n",
        "• only contain sets with a nonzero retail_price\n",
        "\n",
        "• no missing year\n",
        "\n",
        "- Print out the shape of the dataframe after cleaning the dataset.\n",
        "-"
      ]
    },
    {
      "cell_type": "code",
      "execution_count": 6,
      "id": "9d5c1301-b2ee-4c0d-9b5a-5a8a3e625ecd",
      "metadata": {
        "colab": {
          "base_uri": "https://localhost:8080/"
        },
        "id": "9d5c1301-b2ee-4c0d-9b5a-5a8a3e625ecd",
        "outputId": "bd2fa19e-a2fa-4a05-e65d-e1e85090265b"
      },
      "outputs": [
        {
          "output_type": "stream",
          "name": "stdout",
          "text": [
            "Shape of the cleaned dataset: (7213, 10)\n",
            "        id                            name    themegroup           theme  \\\n",
            "1  10264-1                   Corner Garage  Model making  Creator Expert   \n",
            "2  10265-1                    Ford Mustang  Model making  Creator Expert   \n",
            "3  10766-1                      Woody & RC      Licensed       Toy Story   \n",
            "4  10769-1                     RV Vacation      Licensed       Toy Story   \n",
            "5  10770-1  Buzz & Woody's Carnival Mania!      Licensed       Toy Story   \n",
            "\n",
            "            subtheme    year  pieces  minifigs package  retail_price  \n",
            "1  Modular Buildings  2019.0  2569.0         6     Box        199.99  \n",
            "2           Vehicles  2019.0  1471.0         0     Box        149.99  \n",
            "3        Toy Story 4  2019.0    69.0         0     Box          9.99  \n",
            "4        Toy Story 4  2019.0   178.0         0     Box         34.99  \n",
            "5        Toy Story 4  2019.0   230.0         0     Box         49.99  \n"
          ]
        }
      ],
      "source": [
        "import pandas as pd\n",
        "\n",
        "# Load the dataset from the uploaded CSV file\n",
        "lego = pd.read_csv('lego.csv')\n",
        "\n",
        "# Filter the dataset\n",
        "lego = lego[\n",
        "    lego['pieces'].notna() & (lego['pieces'] > 0) &\n",
        "    lego['retail_price'].notna() & (lego['retail_price'] > 0) &\n",
        "    lego['year'].notna()\n",
        "]\n",
        "\n",
        "# Print the shape of the cleaned dataframe\n",
        "print(\"Shape of the cleaned dataset:\", lego.shape)\n",
        "\n",
        "# Display the first few rows of the cleaned dataset for verification\n",
        "print(lego.head())\n",
        "\n",
        "\n"
      ]
    },
    {
      "cell_type": "markdown",
      "id": "1193e396-77f1-48d9-a378-141f9ae0b491",
      "metadata": {
        "id": "1193e396-77f1-48d9-a378-141f9ae0b491"
      },
      "source": [
        "#### Question 2:\n",
        "Arrange the dataset in descending order of retail_price and print the first three rows. Report in words the names of the three most expensive lego sets, their prices, and how many pieces each has."
      ]
    },
    {
      "cell_type": "code",
      "execution_count": 7,
      "id": "434c3555-0556-4332-a5c7-944834f407b8",
      "metadata": {
        "colab": {
          "base_uri": "https://localhost:8080/"
        },
        "id": "434c3555-0556-4332-a5c7-944834f407b8",
        "outputId": "910bae3e-b3fc-441a-c311-53dc6d509a6d"
      },
      "outputs": [
        {
          "output_type": "stream",
          "name": "stdout",
          "text": [
            "The three most expensive LEGO sets are:\n",
            "Name: Millennium Falcon, Price: $799.99, Pieces: 7541.0\n",
            "Name: Connections Kit, Price: $754.99, Pieces: 2455.0\n",
            "Name: Death Star, Price: $499.99, Pieces: 4016.0\n"
          ]
        }
      ],
      "source": [
        "\n",
        "most_expensive_lego_sets = lego.sort_values(by='retail_price', ascending=False).head(3)\n",
        "\n",
        "# Extract the names, prices, and pieces\n",
        "most_expensive_info = most_expensive_lego_sets[['name', 'retail_price', 'pieces']]\n",
        "\n",
        "# Print the results\n",
        "print(\"The three most expensive LEGO sets are:\")\n",
        "for index, row in most_expensive_info.iterrows():\n",
        "    print(f\"Name: {row['name']}, Price: ${row['retail_price']}, Pieces: {row['pieces']}\")\n"
      ]
    },
    {
      "cell_type": "markdown",
      "id": "e972d030-9086-4b6f-b4bf-02d61bd5b2af",
      "metadata": {
        "id": "e972d030-9086-4b6f-b4bf-02d61bd5b2af"
      },
      "source": [
        "#### Question 3:\n",
        "\n",
        "It appears that the most expensive sets generally have more pieces. Create a new variable (column) price_per_piece, representing the price in dollars per piece for each of the sets. Save the result as lego2. Hence, you will overwrite the current lego object."
      ]
    },
    {
      "cell_type": "code",
      "execution_count": 8,
      "id": "8061514b-9a20-45d0-9998-75f3ca9b1bc4",
      "metadata": {
        "colab": {
          "base_uri": "https://localhost:8080/"
        },
        "id": "8061514b-9a20-45d0-9998-75f3ca9b1bc4",
        "outputId": "64abc653-47c3-4347-ff75-59cd50703a3e"
      },
      "outputs": [
        {
          "output_type": "stream",
          "name": "stdout",
          "text": [
            "        id                            name    themegroup           theme  \\\n",
            "1  10264-1                   Corner Garage  Model making  Creator Expert   \n",
            "2  10265-1                    Ford Mustang  Model making  Creator Expert   \n",
            "3  10766-1                      Woody & RC      Licensed       Toy Story   \n",
            "4  10769-1                     RV Vacation      Licensed       Toy Story   \n",
            "5  10770-1  Buzz & Woody's Carnival Mania!      Licensed       Toy Story   \n",
            "\n",
            "            subtheme    year  pieces  minifigs package  retail_price  \\\n",
            "1  Modular Buildings  2019.0  2569.0         6     Box        199.99   \n",
            "2           Vehicles  2019.0  1471.0         0     Box        149.99   \n",
            "3        Toy Story 4  2019.0    69.0         0     Box          9.99   \n",
            "4        Toy Story 4  2019.0   178.0         0     Box         34.99   \n",
            "5        Toy Story 4  2019.0   230.0         0     Box         49.99   \n",
            "\n",
            "   price_per_piece  \n",
            "1         0.077847  \n",
            "2         0.101965  \n",
            "3         0.144783  \n",
            "4         0.196573  \n",
            "5         0.217348  \n"
          ]
        }
      ],
      "source": [
        "lego['price_per_piece'] = lego['retail_price'] / lego['pieces']\n",
        "\n",
        "lego2 = lego.copy()\n",
        "\n",
        "# Display the first few rows of the new DataFrame to verify the changes\n",
        "print(lego2.head())\n",
        "\n"
      ]
    },
    {
      "cell_type": "markdown",
      "id": "a66016ad-869d-4412-b809-749423e9c8d2",
      "metadata": {
        "id": "a66016ad-869d-4412-b809-749423e9c8d2"
      },
      "source": [
        "#### Question 4:\n",
        "\n",
        "Arrange the lego2 dataset in descending order of price_per_piece and return only the columns: name, themegroup, theme, pieces, price_per_piece, and the first five rows. What do you notice about these sets?"
      ]
    },
    {
      "cell_type": "code",
      "execution_count": 9,
      "id": "e4e623ce-d4d4-44d6-86a0-881a04eebf11",
      "metadata": {
        "colab": {
          "base_uri": "https://localhost:8080/"
        },
        "id": "e4e623ce-d4d4-44d6-86a0-881a04eebf11",
        "outputId": "9b228b58-1727-42ec-eff0-321b9b026576"
      },
      "outputs": [
        {
          "output_type": "stream",
          "name": "stdout",
          "text": [
            "                               name   themegroup       theme  pieces  \\\n",
            "3586          EV3 Intelligent Brick    Technical  Mindstorms     1.0   \n",
            "5298  Intelligent NXT Brick (Black)    Technical  Mindstorms     1.0   \n",
            "6452          NXT Intelligent Brick    Technical  Mindstorms     1.0   \n",
            "9029    RCX Programmable LEGO Brick    Technical  Mindstorms     1.0   \n",
            "5272    NXT DC Rechargeable Battery  Educational   Education     1.0   \n",
            "\n",
            "      price_per_piece  \n",
            "3586           204.99  \n",
            "5298           169.99  \n",
            "6452           169.99  \n",
            "9029           110.00  \n",
            "5272            79.99  \n"
          ]
        }
      ],
      "source": [
        "# Arrange the lego2 dataset in descending order of price_per_piece\n",
        "sorted_lego2 = lego2[['name', 'themegroup', 'theme', 'pieces', 'price_per_piece']].sort_values(by='price_per_piece', ascending=False).head(5)\n",
        "\n",
        "# Display the first five rows of the sorted dataset\n",
        "print(sorted_lego2)\n",
        "\n"
      ]
    },
    {
      "cell_type": "markdown",
      "id": "1603a4f2-1e28-43e9-8677-87dcfaf61912",
      "metadata": {
        "id": "1603a4f2-1e28-43e9-8677-87dcfaf61912"
      },
      "source": [
        "#### Question 5:\n",
        "\n",
        "What is the mean price_per_piece for the top 40 'Toy Story' sets in terms of price_per_piece?"
      ]
    },
    {
      "cell_type": "code",
      "execution_count": 10,
      "id": "af76d9ef-a022-4e73-97f4-ba3899219d8b",
      "metadata": {
        "colab": {
          "base_uri": "https://localhost:8080/"
        },
        "id": "af76d9ef-a022-4e73-97f4-ba3899219d8b",
        "outputId": "2bbc20fb-1aa3-4f60-9be3-5ef7820014e4"
      },
      "outputs": [
        {
          "output_type": "stream",
          "name": "stdout",
          "text": [
            "Mean price per piece for the top 40 'Toy Story' sets: 0.15450484111087773\n"
          ]
        }
      ],
      "source": [
        "toy_story_sets = lego2[lego2['theme'] == 'Toy Story']\n",
        "\n",
        "top_40_toy_story_sets = toy_story_sets.sort_values(by='price_per_piece', ascending=False).head(40)\n",
        "\n",
        "mean_price_per_piece = top_40_toy_story_sets['price_per_piece'].mean()\n",
        "\n",
        "# Print the mean price per piece\n",
        "print(\"Mean price per piece for the top 40 'Toy Story' sets:\", mean_price_per_piece)\n",
        "\n"
      ]
    },
    {
      "cell_type": "markdown",
      "id": "45a75d99",
      "metadata": {
        "id": "45a75d99"
      },
      "source": [
        "#### Question 6:\n",
        "\n",
        "What are the unique themes in the lego dataset?"
      ]
    },
    {
      "cell_type": "code",
      "execution_count": 12,
      "id": "fbdb9c4c",
      "metadata": {
        "colab": {
          "base_uri": "https://localhost:8080/"
        },
        "id": "fbdb9c4c",
        "outputId": "4df12a2a-c277-43b2-85b3-2108d2a227d8"
      },
      "outputs": [
        {
          "output_type": "stream",
          "name": "stdout",
          "text": [
            "Unique themes in the LEGO dataset: ['Creator Expert', 'Toy Story', 'Duplo', 'Classic', 'Architecture', 'Minecraft', 'Ideas', 'City', 'Creator', 'BrickHeadz', 'Friends', 'Disney', 'Technic', 'Ninjago', 'The Lego Movie 2: The Second Part', 'Star Wars', 'Speed Champions', 'Jurassic World', 'Overwatch', 'Marvel Super Heroes', 'DC Comics Super Heroes', 'Juniors', 'Wizarding World', 'Miscellaneous', 'Seasonal', 'Promotional', 'Xtra', 'Unikitty', 'Elves', 'The Powerpuff Girls', 'The LEGO Ninjago Movie', 'The LEGO Batman Movie', 'Collectable Minifigures', 'Nexo Knights', 'Powered Up', 'Boost', 'DC Super Hero Girls', 'Pirates of the Caribbean', 'Dimensions', 'Books', 'Education', 'Mixels', 'Mindstorms', 'Bionicle', 'The Angry Birds Movie', 'Ghostbusters', nan, 'Legends of Chima', 'Pirates', 'Ultra Agents', 'The LEGO Movie', 'The Simpsons', 'Scooby-Doo', 'Bricks and More', 'Fusion', 'Teenage Mutant Ninja Turtles', 'HERO Factory', 'The Hobbit', 'Castle', 'The Lord of the Rings', 'Serious Play', 'Master Builder Academy', 'Space', 'The Lone Ranger', 'Games', 'Power Functions', 'Monster Fighters', 'Life of George', 'SpongeBob SquarePants', 'Dino', 'Racers', 'Cars', 'Harry Potter', \"Pharaoh's Quest\", 'Atlantis', 'Primo', 'World Racers', 'Prince of Persia', 'Power Miners', 'Ben 10: Alien Force', 'Indiana Jones', 'Agents', 'Factory', 'Belville', 'Batman', 'Exo-Force', 'Make and Create', 'Aqua Raiders', 'Trains', 'Sports', 'Avatar The Last Airbender', 'Quatro', 'Vikings', 'Dino Attack', 'Clikits', 'Bulk Bricks', 'Model Team', 'Town', 'World City', 'Explore', 'Alpha Team', 'Spider-Man', '4 Juniors', 'Hobby Set', 'Discovery', 'Adventurers', 'Studios', 'Spybotics', 'Jack Stone', 'Island Xtreme Stunts', 'Western', 'Action Wheelers', 'Scala', 'Dinosaurs', 'Dacta', 'Basic', 'Mickey Mouse', 'Service Packs', 'Aquazone', 'Rock Raiders', 'Freestyle', 'Znap', 'Time Cruisers', 'Boats', 'Assorted', 'Fabuland', 'Samsonite', 'Homemaker', 'LEGOLAND', 'Universal Building Set', 'Building Set with People']\n"
          ]
        }
      ],
      "source": [
        "unique_themes = lego['theme'].unique()\n",
        "\n",
        "unique_themes_list = unique_themes.tolist()\n",
        "\n",
        "# Print the unique themes\n",
        "print(\"Unique themes in the LEGO dataset:\", unique_themes_list)\n",
        "\n"
      ]
    }
  ],
  "metadata": {
    "kernelspec": {
      "display_name": "Python 3 (ipykernel)",
      "language": "python",
      "name": "python3"
    },
    "language_info": {
      "codemirror_mode": {
        "name": "ipython",
        "version": 3
      },
      "file_extension": ".py",
      "mimetype": "text/x-python",
      "name": "python",
      "nbconvert_exporter": "python",
      "pygments_lexer": "ipython3",
      "version": "3.9.13"
    },
    "colab": {
      "provenance": []
    }
  },
  "nbformat": 4,
  "nbformat_minor": 5
}